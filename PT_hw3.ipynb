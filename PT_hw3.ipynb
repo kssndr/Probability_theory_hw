{
 "cells": [
  {
   "cell_type": "markdown",
   "metadata": {},
   "source": [
    "# Урок 3. Описательная статистика. Качественные и количественные характеристики популяции. Графическое представление данных"
   ]
  },
  {
   "cell_type": "markdown",
   "metadata": {},
   "source": [
    "## 1. Даны значения зарплат из выборки выпускников: 100, 80, 75, 77, 89, 33, 45, 25, 65, 17, 30, 24, 57, 55, 70, 75, 65, 84, 90, 150. Посчитать (желательно без использования статистических методов наподобие std, var, mean) среднее арифметическое, среднее квадратичное отклонение, смещенную и несмещенную оценки дисперсий для данной выборки."
   ]
  },
  {
   "cell_type": "code",
   "execution_count": 7,
   "metadata": {},
   "outputs": [
    {
     "data": {
      "text/plain": [
       "array([ 17,  24,  25,  30,  33,  45,  55,  57,  65,  65,  70,  75,  75,\n",
       "        77,  80,  84,  89,  90, 100, 150])"
      ]
     },
     "execution_count": 7,
     "metadata": {},
     "output_type": "execute_result"
    }
   ],
   "source": [
    "import numpy as np\n",
    "\n",
    "income_data = np.array([100, 80, 75, 77, 89, 33, 45, 25, 65, 17, 30, 24, 57, 55, 70, 75, 65, 84, 90, 150])\n",
    "\n",
    "x = income_data\n",
    "x.sort()\n",
    "\n",
    "n=len(x)\n",
    "x"
   ]
  },
  {
   "cell_type": "markdown",
   "metadata": {},
   "source": [
    "среднее арифметическое $$M(X) = \\frac{1}{n} \\sum\\limits_{i=1}^{n} x_i$$\n",
    "где $x$ — зарплаты, $n$ — количество наблюдений(выпускников)."
   ]
  },
  {
   "cell_type": "code",
   "execution_count": 10,
   "metadata": {},
   "outputs": [
    {
     "data": {
      "text/plain": [
       "65.3"
      ]
     },
     "execution_count": 10,
     "metadata": {},
     "output_type": "execute_result"
    }
   ],
   "source": [
    "M = 1/n*sum(x)\n",
    "M"
   ]
  },
  {
   "cell_type": "code",
   "execution_count": 16,
   "metadata": {},
   "outputs": [
    {
     "data": {
      "text/plain": [
       "65.3"
      ]
     },
     "execution_count": 16,
     "metadata": {},
     "output_type": "execute_result"
    }
   ],
   "source": [
    "x.mean()"
   ]
  },
  {
   "cell_type": "markdown",
   "metadata": {},
   "source": [
    "среднее квадратичное отклонение$$\\sigma = \\sqrt{\\frac{\\sum\\limits_{i=1}^{n} (x_i - \\overline{x})^2}{n}}$$"
   ]
  },
  {
   "cell_type": "code",
   "execution_count": 15,
   "metadata": {},
   "outputs": [
    {
     "data": {
      "text/plain": [
       "30.823854398825592"
      ]
     },
     "execution_count": 15,
     "metadata": {},
     "output_type": "execute_result"
    }
   ],
   "source": [
    "sigma=((((x-M)**2).sum())/n)**0.5\n",
    "sigma"
   ]
  },
  {
   "cell_type": "code",
   "execution_count": 17,
   "metadata": {},
   "outputs": [
    {
     "data": {
      "text/plain": [
       "30.823854398825592"
      ]
     },
     "execution_count": 17,
     "metadata": {},
     "output_type": "execute_result"
    }
   ],
   "source": [
    "x.std()"
   ]
  },
  {
   "cell_type": "markdown",
   "metadata": {},
   "source": [
    "смещенную оценки дисперсий$$\\sigma^2 = \\frac{\\sum\\limits_{i=1}^{n} (x_i - \\overline{x})^2}{n}$$"
   ]
  },
  {
   "cell_type": "code",
   "execution_count": 20,
   "metadata": {},
   "outputs": [
    {
     "data": {
      "text/plain": [
       "950.1099999999999"
      ]
     },
     "execution_count": 20,
     "metadata": {},
     "output_type": "execute_result"
    }
   ],
   "source": [
    "sigma=((((x-M)**2).sum())/n)\n",
    "sigma"
   ]
  },
  {
   "cell_type": "code",
   "execution_count": 22,
   "metadata": {},
   "outputs": [
    {
     "data": {
      "text/plain": [
       "950.1099999999999"
      ]
     },
     "execution_count": 22,
     "metadata": {},
     "output_type": "execute_result"
    }
   ],
   "source": [
    "x.var(ddof=0)"
   ]
  },
  {
   "cell_type": "markdown",
   "metadata": {},
   "source": [
    "несмещенную оценка дисперсий $$\\sigma^2_{несмещ.} = \\frac{\\sum\\limits_{i=1}^{n} (x_i - \\overline{x})^2}{n - 1}$$"
   ]
  },
  {
   "cell_type": "code",
   "execution_count": 21,
   "metadata": {},
   "outputs": [
    {
     "data": {
      "text/plain": [
       "1000.115789473684"
      ]
     },
     "execution_count": 21,
     "metadata": {},
     "output_type": "execute_result"
    }
   ],
   "source": [
    "sigma=((((x-M)**2).sum())/(n-1))\n",
    "sigma"
   ]
  },
  {
   "cell_type": "code",
   "execution_count": 23,
   "metadata": {},
   "outputs": [
    {
     "data": {
      "text/plain": [
       "1000.115789473684"
      ]
     },
     "execution_count": 23,
     "metadata": {},
     "output_type": "execute_result"
    }
   ],
   "source": [
    "x.var(ddof=1)"
   ]
  },
  {
   "cell_type": "markdown",
   "metadata": {},
   "source": [
    "## 2. В первом ящике находится 8 мячей, из которых 5 - белые. Во втором ящике - 12 мячей, из которых 5 белых. Из первого ящика вытаскивают случайным образом два мяча, из второго - 4. Какова вероятность того, что 3 мяча белые?"
   ]
  },
  {
   "cell_type": "markdown",
   "metadata": {},
   "source": [
    "используем формулу полной вероятности для двух независимых и совместных событий, где требуемое событие состоит из:  \n",
    "$B_1$ - из первого ящика вынимаются 2 белых мяча  \n",
    "$B_2$ - из первого ящика вынимаются 1 белый мяча   \n",
    "$B_3$ - из первого ящика вынимаются 0 белых мячей или 2 черных  \n",
    "\n",
    "$B_4$ - из второго ящика вынимаются 1 белый мяч  \n",
    "$B_5$ - из второго ящика вынимаются 2 белых мяча  \n",
    "$B_6$ - из второго ящика вынимаются 3 белых мяча \n",
    "\n",
    "Получаем следующую формула для события А - вытащить 3 белых мяча  \n",
    "\n",
    "$$P(A)=P(B_1)P(B_4)+P(B_2)P(B_5)+P(B_3)P(B_6)$$"
   ]
  },
  {
   "cell_type": "code",
   "execution_count": 42,
   "metadata": {},
   "outputs": [
    {
     "name": "stdout",
     "output_type": "stream",
     "text": [
      "P_b1=0.35714285714285715, \n",
      "P_b2=0.5357142857142857, \n",
      "P_b3=0.10714285714285714, \n",
      "P_b4=0.35353535353535354, \n",
      "P_b5=0.42424242424242425, \n",
      "P_b6=0.1414141414141414\n",
      "\n",
      "Вероятность достать из 2 ящиков 4 шара, 3 из которых белые равна 0.3686868686868687\n"
     ]
    }
   ],
   "source": [
    "import numpy as np\n",
    "import math\n",
    "\n",
    "def C(k,n):\n",
    "    C = math.factorial(n)/(math.factorial(k)*math.factorial(n-k))\n",
    "    return C\n",
    "\n",
    "P_b1 = C(2,5)/C(2,8)\n",
    "P_b2 = (C(1,5)*C(1,3))/C(2,8)\n",
    "P_b3 = (C(0,5)*C(2,3))/C(2,8)\n",
    "P_b4 = (C(1,5)*C(3,7))/C(4,12)\n",
    "P_b5 = (C(2,5)*C(2,7))/C(4,12)\n",
    "P_b6 = (C(3,5)*C(1,7))/C(4,12)\n",
    "print(f\"P_b1={P_b1}, \\nP_b2={P_b2}, \\nP_b3={P_b3}, \\nP_b4={P_b4}, \\nP_b5={P_b5}, \\nP_b6={P_b6}\")\n",
    "P_A = P_b1*P_b4 + P_b2*P_b5 + P_b3*P_b6\n",
    "print(f\"\\nВероятность достать из 2 ящиков 4 шара, 3 из которых белые равна {P_A}\")"
   ]
  },
  {
   "cell_type": "markdown",
   "metadata": {},
   "source": [
    "## 3. На соревновании по биатлону один из трех спортсменов стреляет и попадает в мишень. Вероятность попадания для первого спортсмена равна 0.9, для второго — 0.8, для третьего — 0.6. Найти вероятность того, что выстрел произведен: a). первым спортсменом б). вторым спортсменом в). третьим спортсменом."
   ]
  },
  {
   "cell_type": "markdown",
   "metadata": {},
   "source": [
    "Поскольку событие произошло - используем форму Байеса:\n",
    "$$P(B\\:|\\:A) = \\frac{P(B) \\cdot P(A\\:|\\:B)}{P(A)}$$\n",
    "Полная группа не совместных событий - событие А - вероятность попадения в цель:\n",
    "$$P(A) = P(B_1) \\cdot P(A\\:|\\:B_1) + P(B_2) \\cdot P(A\\:|\\:B_2) + P(B_3) \\cdot P(A\\:|\\:B_3) = \\frac{1}{3} \\cdot 0.9 + \\frac{1}{3} \\cdot 0.8 + \\frac{1}{3} \\cdot 0.6 =0.7666666666666666$$"
   ]
  },
  {
   "cell_type": "code",
   "execution_count": 3,
   "metadata": {},
   "outputs": [
    {
     "data": {
      "text/plain": [
       "0.7666666666666666"
      ]
     },
     "execution_count": 3,
     "metadata": {},
     "output_type": "execute_result"
    }
   ],
   "source": [
    "(1/3)*0.9+(1/3)*0.8+(1/3)*0.6"
   ]
  },
  {
   "cell_type": "markdown",
   "metadata": {},
   "source": [
    "Апостреорная вероятность того, что выстрел был совершен первым спортсменом:\n",
    "$$P(B_1\\:|\\:A) = \\frac{P(B_1) \\cdot P(A\\:|\\:B_1)}{P(A)}=\\frac{\\frac{1}{3} \\cdot 0.9}{0.7666666666666666}=0.391304347826087$$"
   ]
  },
  {
   "cell_type": "code",
   "execution_count": 4,
   "metadata": {},
   "outputs": [
    {
     "data": {
      "text/plain": [
       "0.391304347826087"
      ]
     },
     "execution_count": 4,
     "metadata": {},
     "output_type": "execute_result"
    }
   ],
   "source": [
    "((1/3)*0.9)/0.7666666666666666"
   ]
  },
  {
   "cell_type": "markdown",
   "metadata": {},
   "source": [
    "Апостреорная вероятность того, что выстрел был совершен вторым спортсменом:\n",
    "$$P(B_2\\:|\\:A) = \\frac{P(B_2) \\cdot P(A\\:|\\:B_2)}{P(A)}=\\frac{\\frac{1}{3} \\cdot 0.8}{0.7666666666666666}=0.3478260869565218$$"
   ]
  },
  {
   "cell_type": "code",
   "execution_count": 7,
   "metadata": {},
   "outputs": [
    {
     "data": {
      "text/plain": [
       "0.3478260869565218"
      ]
     },
     "execution_count": 7,
     "metadata": {},
     "output_type": "execute_result"
    }
   ],
   "source": [
    "((1/3)*0.8)/0.7666666666666666"
   ]
  },
  {
   "cell_type": "markdown",
   "metadata": {},
   "source": [
    "Апостреорная вероятность того, что выстрел был совершен третьим спортсменом:\n",
    "$$P(B_3\\:|\\:A) = \\frac{P(B_3) \\cdot P(A\\:|\\:B_3)}{P(A)}=\\frac{\\frac{1}{3} \\cdot 0.6}{0.7666666666666666}=0.2608695652173913$$"
   ]
  },
  {
   "cell_type": "code",
   "execution_count": 9,
   "metadata": {},
   "outputs": [
    {
     "data": {
      "text/plain": [
       "0.2608695652173913"
      ]
     },
     "execution_count": 9,
     "metadata": {},
     "output_type": "execute_result"
    }
   ],
   "source": [
    "((1/3)*0.6)/0.7666666666666666"
   ]
  },
  {
   "cell_type": "markdown",
   "metadata": {},
   "source": [
    "## 4. В университет на факультеты A и B поступило равное количество студентов, а на факультет C студентов поступило столько же, сколько на A и B вместе. Вероятность того, что студент факультета A сдаст первую сессию, равна 0.8. Для студента факультета B эта вероятность равна 0.7, а для студента факультета C - 0.9. Студент сдал первую сессию. Какова вероятность, что он учится: a). на факультете A б). на факультете B в). на факультете C?"
   ]
  },
  {
   "cell_type": "markdown",
   "metadata": {},
   "source": [
    "Поскольку событие произошло - используем форму Байеса:\n",
    "$$P(B\\:|\\:A) = \\frac{P(B) \\cdot P(A\\:|\\:B)}{P(A)}$$\n",
    "Полная группа не совместных событий - событие А - студент сдал сессию:\n",
    "$$P(A) = P(B_A) \\cdot P(A\\:|\\:B_A) + P(B_B) \\cdot P(A\\:|\\:B_B) + P(B_C) \\cdot P(A\\:|\\:B_C) = \\frac{1}{4} \\cdot 0.8 + \\frac{1}{4} \\cdot 0.7 + \\frac{1}{2} \\cdot 0.9 =0.825$$"
   ]
  },
  {
   "cell_type": "code",
   "execution_count": 10,
   "metadata": {},
   "outputs": [
    {
     "data": {
      "text/plain": [
       "0.825"
      ]
     },
     "execution_count": 10,
     "metadata": {},
     "output_type": "execute_result"
    }
   ],
   "source": [
    "(1/4)*0.8+(1/4)*0.7+(1/2)*0.9"
   ]
  },
  {
   "cell_type": "markdown",
   "metadata": {},
   "source": [
    "Апостреорная вероятность того, что сдал студент с факультета А:\n",
    "$$P(B_A\\:|\\:A) = \\frac{P(B_A) \\cdot P(A\\:|\\:B_A)}{P(A)}=\\frac{\\frac{1}{4} \\cdot 0.8}{0.825}=0.24242424242424246$$"
   ]
  },
  {
   "cell_type": "code",
   "execution_count": 12,
   "metadata": {},
   "outputs": [
    {
     "data": {
      "text/plain": [
       "0.24242424242424246"
      ]
     },
     "execution_count": 12,
     "metadata": {},
     "output_type": "execute_result"
    }
   ],
   "source": [
    "((1/4)*0.8)/0.825"
   ]
  },
  {
   "cell_type": "markdown",
   "metadata": {},
   "source": [
    "Апостреорная вероятность того, что сдал студент с факультета А:\n",
    "$$P(B_B\\:|\\:A) = \\frac{P(B_B) \\cdot P(A\\:|\\:B_B)}{P(A)}=\\frac{\\frac{1}{4} \\cdot 0.7}{0.825}=0.21212121212121213$$"
   ]
  },
  {
   "cell_type": "code",
   "execution_count": 15,
   "metadata": {},
   "outputs": [
    {
     "data": {
      "text/plain": [
       "0.21212121212121213"
      ]
     },
     "execution_count": 15,
     "metadata": {},
     "output_type": "execute_result"
    }
   ],
   "source": [
    "((1/4)*0.7)/0.825"
   ]
  },
  {
   "cell_type": "markdown",
   "metadata": {},
   "source": [
    "Апостреорная вероятность того, что сдал студент с факультета А:\n",
    "$$P(B_C\\:|\\:A) = \\frac{P(B_C) \\cdot P(A\\:|\\:B_C)}{P(A)}=\\frac{\\frac{1}{2} \\cdot 0.9}{0.825}=0.5454545454545455$$"
   ]
  },
  {
   "cell_type": "code",
   "execution_count": 14,
   "metadata": {},
   "outputs": [
    {
     "data": {
      "text/plain": [
       "0.5454545454545455"
      ]
     },
     "execution_count": 14,
     "metadata": {},
     "output_type": "execute_result"
    }
   ],
   "source": [
    "((1/2)*0.9)/0.825"
   ]
  },
  {
   "cell_type": "markdown",
   "metadata": {},
   "source": [
    "## 5. Устройство состоит из трех деталей. Для первой детали вероятность выйти из строя в первый месяц равна 0.1, для второй - 0.2, для третьей - 0.25. Какова вероятность того, что в первый месяц выйдут из строя: а). все детали б). только две детали в). хотя бы одна деталь г). от одной до двух деталей?"
   ]
  },
  {
   "cell_type": "markdown",
   "metadata": {},
   "source": [
    "  а) все детали вышли из строя выход деталей это независимые, совместные события  \n",
    "$$P(A_а)=P(B_1)\\cdot P(B_2)\\cdot P(B_3)=0.1\\cdot0.2\\cdot0.25=0.005$$\n"
   ]
  },
  {
   "cell_type": "code",
   "execution_count": 18,
   "metadata": {},
   "outputs": [
    {
     "data": {
      "text/plain": [
       "0.005000000000000001"
      ]
     },
     "execution_count": 18,
     "metadata": {},
     "output_type": "execute_result"
    }
   ],
   "source": [
    "0.1*0.2*0.25"
   ]
  },
  {
   "cell_type": "markdown",
   "metadata": {},
   "source": [
    "  б) только две любые детали  \n",
    "$$P(A_б)=P(B_1)\\cdot P(B_2)\\cdot (1-P(B_3))+P(B_1)\\cdot (1-P(B_2))\\cdot P(B_3)+(1-P(B_1)\\cdot P(B_2) \\cdot P(B_3)=0.1\\cdot0.2\\cdot(1-0.25)+0.1\\cdot(1-0.2)\\cdot0.25+(1-0.1)\\cdot0.2\\cdot0.25=0.08$$"
   ]
  },
  {
   "cell_type": "code",
   "execution_count": 21,
   "metadata": {},
   "outputs": [
    {
     "data": {
      "text/plain": [
       "0.08000000000000002"
      ]
     },
     "execution_count": 21,
     "metadata": {},
     "output_type": "execute_result"
    }
   ],
   "source": [
    "0.1*0.2*(1-0.25)+0.1*(1-0.2)*0.25+(1-0.1)*0.2*0.25"
   ]
  },
  {
   "cell_type": "markdown",
   "metadata": {},
   "source": [
    "  в) хотя бы одна деталь:  \n",
    "$$P(A_в)=P(B_1)\\cdot (1-P(B_2))\\cdot (1-P(B_3))+(1-P(B_1))\\cdot (1-P(B_2))\\cdot P(B_3)+P(1-B_1)\\cdot P(B_2) \\cdot (1-P(B_3))=0.1\\cdot(1-0.2)\\cdot(1-0.25)+(1-0.1)\\cdot(1-0.2)\\cdot0.25+(1-0.1)\\cdot0.2\\cdot(1-0.25)=0.375$$"
   ]
  },
  {
   "cell_type": "code",
   "execution_count": 22,
   "metadata": {},
   "outputs": [
    {
     "data": {
      "text/plain": [
       "0.37500000000000006"
      ]
     },
     "execution_count": 22,
     "metadata": {},
     "output_type": "execute_result"
    }
   ],
   "source": [
    "0.1*(1-0.2)*(1-0.25)+(1-0.1)*(1-0.2)*0.25+(1-0.1)*0.2*(1-0.25)"
   ]
  },
  {
   "cell_type": "markdown",
   "metadata": {},
   "source": [
    "  г) от одной до двух деталей - два несовместных события, которые уже посчитаны:  \n",
    "$$P(A_г)=P(A_б)+P(A_в)=0.08+0.375=0.455$$"
   ]
  },
  {
   "cell_type": "code",
   "execution_count": 23,
   "metadata": {},
   "outputs": [
    {
     "data": {
      "text/plain": [
       "0.455"
      ]
     },
     "execution_count": 23,
     "metadata": {},
     "output_type": "execute_result"
    }
   ],
   "source": [
    "0.08+0.375"
   ]
  }
 ],
 "metadata": {
  "kernelspec": {
   "display_name": "Python 3",
   "language": "python",
   "name": "python3"
  },
  "language_info": {
   "codemirror_mode": {
    "name": "ipython",
    "version": 3
   },
   "file_extension": ".py",
   "mimetype": "text/x-python",
   "name": "python",
   "nbconvert_exporter": "python",
   "pygments_lexer": "ipython3",
   "version": "3.7.3"
  }
 },
 "nbformat": 4,
 "nbformat_minor": 2
}
