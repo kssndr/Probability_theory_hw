{
 "cells": [
  {
   "cell_type": "markdown",
   "metadata": {},
   "source": [
    "# Урок 5. Проверка статистических гипотез. P-значения. Доверительные интервалы. A/B-тестирование"
   ]
  },
  {
   "cell_type": "markdown",
   "metadata": {},
   "source": [
    "## 1. Известно, что генеральная совокупность распределена нормально\n",
    "## со средним квадратическим отклонением, равным 16.\n",
    "## Найти доверительный интервал для оценки математического ожидания a с надежностью 0.95, если выборочная средняя M = 80, а объем выборки n = 256."
   ]
  },
  {
   "cell_type": "markdown",
   "metadata": {},
   "source": [
    "$$T_{1,2} = \\overline{X} \\pm \\frac{s_0}{\\sqrt{n}} \\cdot c_{\\gamma}$$"
   ]
  },
  {
   "cell_type": "markdown",
   "metadata": {},
   "source": [
    "где $T_1$, $T_2$ — нижняя и верхняя границы доверительного интервала,\n",
    "\n",
    "$\\overline{X}=M=80$  — выборочное среднее арифметическое ,  \n",
    "$s_0=16$ — среднее квадратичное отклонение по выборке (несмещенное),\n",
    "\n",
    "$n=256$ — размер выборки,\n",
    "\n",
    "$\\gamma=0.95$ — доверительная вероятность.  \n",
    "\n",
    "$c_{\\gamma}$ найдем из соотношения  $Ф(с_{\\gamma})= \\frac{\\gamma}{2}=0.475$ по Таблице значений функции Лапласа $c_{\\gamma}=1.96$"
   ]
  },
  {
   "cell_type": "markdown",
   "metadata": {},
   "source": [
    "$$T_1 = \\overline{X} + \\frac{s_0}{\\sqrt{n}} \\cdot c_{\\gamma}=80+\\frac{16}{\\sqrt{256}}\\cdot1.96 = 80+1.96=81.96$$"
   ]
  },
  {
   "cell_type": "markdown",
   "metadata": {},
   "source": [
    "$$T_2 = \\overline{X} - \\frac{s_0}{\\sqrt{n}} \\cdot c_{\\gamma}=80-\\frac{16}{\\sqrt{256}}\\cdot1.96 = 80-1.96=78.04$$"
   ]
  },
  {
   "cell_type": "markdown",
   "metadata": {},
   "source": [
    "\n",
    "## 2. В результате 10 независимых измерений некоторой величины X, выполненных с одинаковой точностью, получены опытные данные: \n",
    "## 6.9, 6.1, 6.2, 6.8, 7.5, 6.3, 6.4, 6.9, 6.7, 6.1\n",
    "## Предполагая, что результаты измерений подчинены нормальному закону распределения вероятностей, оценить истинное значение величины X при помощи доверительного интервала, покрывающего это значение с доверительной вероятностью 0,95."
   ]
  },
  {
   "cell_type": "markdown",
   "metadata": {},
   "source": [
    "Нам необходимо оценить вероятность того что истинное значение величины $Х$ генеральной совокупности - математическое ожидание $а$, попадет в дверительный интервал с вероятностью $\\gamma=0.95$, если нам известна выборочная средняя величина $\\bar{x}$ и выборочная дисперсия $D_x$(тоесть была произведена точечная оценка и о самой генеральной совокупности нам ничего не известно, короме того что она распределена нормально)  \n",
    "для оценки будем использовать формулу $$\\bar{x}-t_{\\gamma}\\frac{s}{\\sqrt{n}}<a<\\bar{x}+t_{\\gamma}\\frac{s}{\\sqrt{n}}$$  \n",
    "Поскольку выборка мала, нам еще необходимо будет для корректной оценки исправленное среднеквадратичное отклонение $s$ - то есть посчитать несмещенную дисперсию по формуле $s=\\frac{n}{n-1}\\cdot D_x$\n",
    "\n",
    "Считаем:  \n",
    "\n",
    "Выборочная средняя величина:  \n",
    "$\\bar{x}=\\frac{1}{n}\\sum x_i = \\frac{1}{10}\\cdot(6.9+6.1+6.2+6.8+7.5+6.3+6.4+6.9+6.7+6.1)=6.59$"
   ]
  },
  {
   "cell_type": "code",
   "execution_count": 23,
   "metadata": {},
   "outputs": [
    {
     "data": {
      "text/plain": [
       "6.59"
      ]
     },
     "execution_count": 23,
     "metadata": {},
     "output_type": "execute_result"
    }
   ],
   "source": [
    "n=10\n",
    "xi=(6.9, 6.1, 6.2, 6.8, 7.5, 6.3, 6.4, 6.9, 6.7, 6.1)\n",
    "x_=(1/n)*sum(xi)\n",
    "x_"
   ]
  },
  {
   "cell_type": "markdown",
   "metadata": {},
   "source": [
    "Выборочная дисперсия:  \n",
    "$D_x=\\frac{1}{n}\\sum(x_i-\\bar{x})^2 =0.183$"
   ]
  },
  {
   "cell_type": "code",
   "execution_count": 26,
   "metadata": {},
   "outputs": [
    {
     "data": {
      "text/plain": [
       "0.1829000000000001"
      ]
     },
     "execution_count": 26,
     "metadata": {},
     "output_type": "execute_result"
    }
   ],
   "source": [
    "sum_2=0\n",
    "for i in xi:\n",
    "    sum_2+=(i-x_)**2\n",
    "D=(1/10)*sum_2\n",
    "D"
   ]
  },
  {
   "cell_type": "markdown",
   "metadata": {},
   "source": [
    "Выборочное среднеквадратичное несмещенное отклонение  \n",
    "$s=\\frac{n}{n-1}\\cdot\\sqrt{D_x}=\\frac{10}{9}\\sqrt{0.1829}=0.475$"
   ]
  },
  {
   "cell_type": "code",
   "execution_count": 30,
   "metadata": {},
   "outputs": [
    {
     "data": {
      "text/plain": [
       "0.47531665858238753"
      ]
     },
     "execution_count": 30,
     "metadata": {},
     "output_type": "execute_result"
    }
   ],
   "source": [
    "(10/9)*(0.183**0.5)"
   ]
  },
  {
   "cell_type": "markdown",
   "metadata": {},
   "source": [
    "$t_{\\gamma}$ определяется по таблице Стьюдента $t_{\\gamma}(10-1,(1-0.95)/2)=2.262$"
   ]
  },
  {
   "cell_type": "markdown",
   "metadata": {},
   "source": [
    "Вычислим точность оценки:  \n",
    "    $\\sigma=\\frac{t_{\\gamma}s}{\\sqrt{n}}=\\frac{2.262\\cdot0.475}{\\sqrt{10}}=0.34$"
   ]
  },
  {
   "cell_type": "code",
   "execution_count": 32,
   "metadata": {},
   "outputs": [
    {
     "data": {
      "text/plain": [
       "0.3397709231967915"
      ]
     },
     "execution_count": 32,
     "metadata": {},
     "output_type": "execute_result"
    }
   ],
   "source": [
    "(2.262*0.475)/(10**0.5)"
   ]
  },
  {
   "cell_type": "markdown",
   "metadata": {},
   "source": [
    "Получаем диапозон:  \n",
    "\n",
    "$6.59-0.34<a<6.59+0.34$  \n",
    "\n",
    "\n",
    "$6.25<a<6.93$  \n",
    "\n",
    "в данный интервал с вероятностью 0.95 попадает математическое ожидание(истинное значение) $a$ измеряемой величины генеральной совокупности $X$"
   ]
  },
  {
   "cell_type": "markdown",
   "metadata": {},
   "source": [
    "## 3. Утверждается, что шарики для подшипников, изготовленные автоматическим станком, имеют средний диаметр 17 мм.\n",
    "## Используя односторонний критерий с α=0,05, проверить эту гипотезу, если в выборке из n=100 шариков средний диаметр оказался равным 17.5 мм, а дисперсия известна и равна 4 кв. мм."
   ]
  },
  {
   "cell_type": "markdown",
   "metadata": {},
   "source": [
    "Критерий $T=\\frac{(\\bar{x_в}-a_0)\\sqrt{n-1}}{S}$ - случайная величина, имеющая распределение Стьюдента.  \n",
    "\n",
    "$H_0: a_0=a=17$  \n",
    "$H_1: x_в>a_0=17.5$  "
   ]
  },
  {
   "cell_type": "markdown",
   "metadata": {},
   "source": [
    "по всей видимости дисперсия относиться к случайной выборке, поэтому посчитаем несмещенное среднеквадратичное отклонение $S$  \n",
    "$S=\\frac{100}{100-1}\\cdot \\sqrt{4}=2.0202$"
   ]
  },
  {
   "cell_type": "code",
   "execution_count": 41,
   "metadata": {},
   "outputs": [
    {
     "data": {
      "text/plain": [
       "2.0202020202020203"
      ]
     },
     "execution_count": 41,
     "metadata": {},
     "output_type": "execute_result"
    }
   ],
   "source": [
    "(100/99)*(4**0.5)"
   ]
  },
  {
   "cell_type": "markdown",
   "metadata": {},
   "source": [
    "$T_{набл}=\\frac{(17.5-17)\\sqrt{100-1}}{2.0202}=2.462$"
   ]
  },
  {
   "cell_type": "markdown",
   "metadata": {},
   "source": [
    "$t_{пркр}=2.01$  \n",
    "\n",
    "$t_{пркр}<T_{набл}\\Rightarrow H_0$ - отвергается"
   ]
  },
  {
   "cell_type": "code",
   "execution_count": 43,
   "metadata": {},
   "outputs": [
    {
     "data": {
      "text/plain": [
       "2.462596369435254"
      ]
     },
     "execution_count": 43,
     "metadata": {},
     "output_type": "execute_result"
    }
   ],
   "source": [
    "((17.5-17)*(99)**0.5)/2.0202"
   ]
  },
  {
   "cell_type": "markdown",
   "metadata": {},
   "source": [
    "## 4. Продавец утверждает, что средний вес пачки печенья составляет 200 г.Из партии извлечена выборка из 10 пачек. Вес каждой пачки составляет:\n",
    "## 202, 203, 199, 197, 195, 201, 200, 204, 194, 190.\n",
    "## Известно, что их веса распределены нормально. Верно ли утверждение продавца, если учитывать, что доверительная вероятность равна 99%?"
   ]
  },
  {
   "cell_type": "markdown",
   "metadata": {},
   "source": [
    "Критерий $T=\\frac{(\\bar{X}-a_0)\\sqrt{n-1}}{S}$ - случайная величина, имеющая распределение Стьюдента.  \n",
    "\n",
    "$H_0: a_0=a=200$  \n",
    "$H_1: x_в\\neq a_0=198.5$  "
   ]
  },
  {
   "cell_type": "code",
   "execution_count": 44,
   "metadata": {},
   "outputs": [
    {
     "name": "stdout",
     "output_type": "stream",
     "text": [
      "x_=198.5, D=17.85, s=4.69436226095058\n"
     ]
    }
   ],
   "source": [
    "n=10\n",
    "xi=(202, 203, 199, 197, 195, 201, 200, 204, 194, 190)\n",
    "x_=(1/n)*sum(xi)\n",
    "sum_2=0\n",
    "for i in xi:\n",
    "    sum_2+=(i-x_)**2\n",
    "D=(1/n)*sum_2\n",
    "s=(n/(n-1))*(D**0.5)\n",
    "print(f\"x_={x_}, D={D}, s={s}\")"
   ]
  },
  {
   "cell_type": "markdown",
   "metadata": {},
   "source": [
    "$T_{набл}=\\frac{(198.5-200)\\sqrt{10-1}}{4.6943622}=-0.958$"
   ]
  },
  {
   "cell_type": "code",
   "execution_count": 46,
   "metadata": {},
   "outputs": [
    {
     "data": {
      "text/plain": [
       "-0.9585966758167915"
      ]
     },
     "execution_count": 46,
     "metadata": {},
     "output_type": "execute_result"
    }
   ],
   "source": [
    "((198.5-200)*3)/4.6943622"
   ]
  },
  {
   "cell_type": "code",
   "execution_count": 48,
   "metadata": {},
   "outputs": [
    {
     "data": {
      "text/plain": [
       "-1.8"
      ]
     },
     "execution_count": 48,
     "metadata": {},
     "output_type": "execute_result"
    }
   ],
   "source": [
    "(2720-2900)/(700/(49**0.5))"
   ]
  },
  {
   "cell_type": "markdown",
   "metadata": {},
   "source": [
    "$t_{лвкр}[(10-1),0.99/2]=-3.25$  \n",
    "https://infotables.ru/matematika/108-kvantili-protsentili-raspredeleniya-styudenta-ili-koeffitsienty-styudenta-tablitsa"
   ]
  },
  {
   "cell_type": "markdown",
   "metadata": {},
   "source": [
    "$t_{лвкр}<T_{набл}\\Rightarrow H_0$ - подтверждается - утверждение продавца верное (о том что средняя пачка весит 200 гр)"
   ]
  },
  {
   "cell_type": "markdown",
   "metadata": {},
   "source": [
    "## 5. На сколько сигм (средних квадратичных отклонений) отклоняется рост человека, равный 190 см, от математического ожидания роста в популяции, в которой M(X) = 178 см и D(X) = 25 кв.см?"
   ]
  },
  {
   "cell_type": "markdown",
   "metadata": {},
   "source": [
    "$$\\frac{190-178}{\\sqrt{D(X)}}=\\frac{12}{5}=2.4$$"
   ]
  }
 ],
 "metadata": {
  "kernelspec": {
   "display_name": "Python 3",
   "language": "python",
   "name": "python3"
  },
  "language_info": {
   "codemirror_mode": {
    "name": "ipython",
    "version": 3
   },
   "file_extension": ".py",
   "mimetype": "text/x-python",
   "name": "python",
   "nbconvert_exporter": "python",
   "pygments_lexer": "ipython3",
   "version": "3.7.3"
  }
 },
 "nbformat": 4,
 "nbformat_minor": 2
}
